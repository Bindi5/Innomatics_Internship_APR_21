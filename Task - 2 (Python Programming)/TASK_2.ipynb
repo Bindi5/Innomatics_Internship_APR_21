{
 "cells": [
  {
   "cell_type": "code",
   "execution_count": 112,
   "metadata": {},
   "outputs": [
    {
     "name": "stdout",
     "output_type": "stream",
     "text": [
      "1\n",
      "1\n",
      "2\n",
      "3\n",
      "[[0, 0, 0], [0, 0, 1], [0, 0, 2], [0, 1, 0], [0, 1, 1], [1, 0, 0], [1, 0, 1], [1, 1, 0], [1, 1, 2]]\n"
     ]
    }
   ],
   "source": [
    "# Question 1: List Comprehensions\n",
    "\n",
    "if __name__ == '__main__':\n",
    "    x = int(input())\n",
    "    y = int(input())\n",
    "    z = int(input())\n",
    "    n = int(input())\n",
    "    \n",
    "    print([[i,j,k] for i in range(x+1) for j in range(y+1) for k in range(z+1) if i+j+k != n])"
   ]
  },
  {
   "cell_type": "code",
   "execution_count": 20,
   "metadata": {},
   "outputs": [
    {
     "name": "stdout",
     "output_type": "stream",
     "text": [
      "5\n",
      "2 3 6 6 5\n",
      "5\n"
     ]
    }
   ],
   "source": [
    "# Question 2: Find the Runner-Up Score!\n",
    "\n",
    "if __name__ == '__main__':\n",
    "    n = int(input())\n",
    "    arr = map(int, input().split())\n",
    "    lst = list(set(arr))\n",
    "    maxx = max(lst)\n",
    "    lst.remove(maxx)\n",
    "    print(max(lst))"
   ]
  },
  {
   "cell_type": "code",
   "execution_count": 45,
   "metadata": {},
   "outputs": [
    {
     "name": "stdout",
     "output_type": "stream",
     "text": [
      "5\n",
      "harry\n",
      "37.21\n",
      "berry\n",
      "37.21\n",
      "tina\n",
      "37.2\n",
      "akriti\n",
      "41\n",
      "harsh\n",
      "39\n",
      "berry\n",
      "harry\n"
     ]
    }
   ],
   "source": [
    "# Question 3: Nested Lists\n",
    "\n",
    "if __name__ == '__main__':\n",
    "    lst = []\n",
    "    for _ in range(int(input())):\n",
    "        name = input()\n",
    "        score = float(input())\n",
    "        lst.append([name, score])\n",
    "        \n",
    "    val_lst = [i[-1] for i in lst]\n",
    "    val_lst = list(set(val_lst))\n",
    "    val_lst.remove(min(val_lst))\n",
    "    minn = min(val_lst)\n",
    "    n = [i[0] for i in lst if i[-1]==minn]\n",
    "    n = sorted(n, reverse= False)\n",
    "    for i in n:\n",
    "        print(i)"
   ]
  },
  {
   "cell_type": "code",
   "execution_count": 1,
   "metadata": {},
   "outputs": [
    {
     "name": "stdout",
     "output_type": "stream",
     "text": [
      "3\n",
      "bindi 12 20 8\n",
      "bina 20 30 10\n",
      "masu 22 55 3\n",
      "bindi\n",
      "13.33\n"
     ]
    }
   ],
   "source": [
    "# Question 4: Finding the percentage\n",
    "\n",
    "if __name__ == '__main__':\n",
    "    n = int(input())\n",
    "    student_marks = {}\n",
    "    for _ in range(n):\n",
    "        name, *line = input().split()\n",
    "        scores = list(map(float, line))\n",
    "        student_marks[name] = scores\n",
    "    query_name = input()\n",
    "    val = student_marks[query_name]\n",
    "    print(\"{:.2f}\".format(sum(val)/len(val)))\n"
   ]
  },
  {
   "cell_type": "code",
   "execution_count": 9,
   "metadata": {},
   "outputs": [
    {
     "name": "stdout",
     "output_type": "stream",
     "text": [
      "12\n",
      "insert 0 5\n",
      "insert 1 10\n",
      "insert 0 6\n",
      "print\n",
      "[6, 5, 10]\n",
      "remove 6\n",
      "append 9\n",
      "append 1\n",
      "sort\n",
      "print\n",
      "[1, 5, 9, 10]\n",
      "pop\n",
      "reverse\n",
      "print\n",
      "[9, 5, 1]\n"
     ]
    }
   ],
   "source": [
    "# Question 5: Lists\n",
    "\n",
    "if __name__ == '__main__':\n",
    "    N = int(input())\n",
    "    lst = []\n",
    "    \n",
    "    for i in range(N):\n",
    "        c = input().strip().split(' ')\n",
    "        if c[0] == \"insert\":\n",
    "            lst.insert(int(c[1]),int(c[2]))\n",
    "        elif c[0] == 'append':\n",
    "            lst.append(int(c[-1]))\n",
    "        elif c[0] == 'print':\n",
    "            print(lst)\n",
    "        elif c[0] == 'remove':\n",
    "            lst.remove(int(c[-1]))\n",
    "        elif c[0] == 'sort':\n",
    "            lst.sort()\n",
    "        elif c[0] == 'pop':\n",
    "            lst.pop()\n",
    "        elif c[0] == 'reverse':\n",
    "            lst.reverse()\n",
    "            "
   ]
  },
  {
   "cell_type": "code",
   "execution_count": 12,
   "metadata": {},
   "outputs": [
    {
     "name": "stdout",
     "output_type": "stream",
     "text": [
      "2\n",
      "1 2\n",
      "3713081631934410656\n"
     ]
    }
   ],
   "source": [
    "# Question 6: Tuples\n",
    "\n",
    "if __name__ == '__main__':\n",
    "    n = int(input())\n",
    "    integer_list = map(int, input().split())\n",
    "    tup = tuple(integer_list)\n",
    "    print(hash(tup))"
   ]
  },
  {
   "cell_type": "code",
   "execution_count": 1,
   "metadata": {},
   "outputs": [
    {
     "name": "stdout",
     "output_type": "stream",
     "text": [
      "10\n",
      "161 182 161 154 176 170 167 171 170 174\n",
      "169.375\n"
     ]
    }
   ],
   "source": [
    "#Question 7: Introduction to Sets\n",
    "\n",
    "def average(array):\n",
    "    # your code goes here\n",
    "    s = set(array)\n",
    "    avg = round(sum(s)/len(s), 3)\n",
    "    return avg\n",
    "\n",
    "if __name__ == '__main__':\n",
    "    n = int(input())\n",
    "    arr = list(map(int, input().split()))\n",
    "    result = average(arr)\n",
    "    print(result)"
   ]
  },
  {
   "cell_type": "code",
   "execution_count": 115,
   "metadata": {},
   "outputs": [
    {
     "name": "stdout",
     "output_type": "stream",
     "text": [
      "3 2\n",
      "1 5 3\n",
      "3 1\n",
      "5 7\n",
      "1\n"
     ]
    }
   ],
   "source": [
    "# Question 8: No Idea!\n",
    "\n",
    "if __name__ == '__main__':\n",
    "    n, m = map(int, input().split())\n",
    "    arr = map(int, input().split())\n",
    "    a = set(map(int, input().split()))\n",
    "    b = set(map(int, input().split()))\n",
    "    \n",
    "    happy = 0\n",
    "    \n",
    "    for i in arr:\n",
    "        if i in a:\n",
    "            happy += 1\n",
    "        if i in b:\n",
    "            happy -= 1\n",
    "    \n",
    "    print(happy)   "
   ]
  },
  {
   "cell_type": "code",
   "execution_count": 61,
   "metadata": {},
   "outputs": [
    {
     "name": "stdout",
     "output_type": "stream",
     "text": [
      "2\n",
      "8 -10\n",
      "3\n",
      "5 6 7\n",
      "-10\n",
      "5\n",
      "6\n",
      "7\n",
      "8\n"
     ]
    }
   ],
   "source": [
    "# Question 9: Symmetric Difference\n",
    "\n",
    "m = int(input())\n",
    "arr = set(map(int, input().split()))\n",
    "n = int(input())\n",
    "arr2 = set(map(int, input().split()))\n",
    "sett = arr ^ arr2\n",
    "sett = list(sett)\n",
    "sett.sort()\n",
    "for i in sett:\n",
    "    print(i)"
   ]
  },
  {
   "cell_type": "code",
   "execution_count": 59,
   "metadata": {},
   "outputs": [
    {
     "name": "stdout",
     "output_type": "stream",
     "text": [
      "7\n",
      "UK\n",
      "Chaina\n",
      "USA\n",
      "France\n",
      "New Zealand\n",
      "UK\n",
      "France\n",
      "5\n"
     ]
    }
   ],
   "source": [
    "# Question 10: Set .add()\n",
    "\n",
    "n = int(input())\n",
    "lst = []\n",
    "for i in range(n):\n",
    "    c = input().strip()\n",
    "    lst.append(c)\n",
    "print(len(set(lst)))"
   ]
  },
  {
   "cell_type": "code",
   "execution_count": 67,
   "metadata": {},
   "outputs": [
    {
     "name": "stdout",
     "output_type": "stream",
     "text": [
      "9\n",
      "1 2 3 4 5 6 7 8 9\n",
      "10\n",
      "pop\n",
      "remove 9\n",
      "discard 9\n",
      "discard 8\n",
      "remove 7\n",
      "pop\n",
      "discard 6\n",
      "remove 5\n",
      "pop\n",
      "discard 5\n",
      "4\n"
     ]
    }
   ],
   "source": [
    "# Question 11: Set .discard(), .remove() & .pop()\n",
    "\n",
    "n = int(input())\n",
    "s = set(map(int, input().split()))\n",
    "command = int(input())\n",
    "for i in range(command):\n",
    "    c = input().strip().split(' ')\n",
    "   \n",
    "    if c[0] == 'discard':\n",
    "        s.discard(int(c[-1]))\n",
    "    elif c[0] == 'remove':\n",
    "        s.remove(int(c[-1]))\n",
    "    elif c[0] == 'pop':\n",
    "        s.pop()\n",
    "print(sum(s))"
   ]
  },
  {
   "cell_type": "code",
   "execution_count": 68,
   "metadata": {},
   "outputs": [
    {
     "name": "stdout",
     "output_type": "stream",
     "text": [
      "9\n",
      "1 2 3 4 5 6 7 8 9\n",
      "9\n",
      "10 1 2 3 11 21 55 6 8\n",
      "13\n"
     ]
    }
   ],
   "source": [
    "# Question 12: Set .union() Operation\n",
    "\n",
    "e = int(input())\n",
    "e_roll = set(map(int, input().split()))\n",
    "f = int(input())\n",
    "f_roll = set(map(int, input().split()))\n",
    "print(len(e_roll | f_roll))    # or, print(len(e_roll.union(f_roll)))"
   ]
  },
  {
   "cell_type": "code",
   "execution_count": 71,
   "metadata": {},
   "outputs": [
    {
     "name": "stdout",
     "output_type": "stream",
     "text": [
      "7\n",
      "1 2 3 4 5 6 7\n",
      "9\n",
      "10 1 2 3 11 21 55 6 8\n",
      "4\n"
     ]
    }
   ],
   "source": [
    "# Question 13: Set .intersection() Operation\n",
    "\n",
    "if __name__ == '__main__':\n",
    "    e = int(input())\n",
    "    e_roll = set(map(int, input().split()))\n",
    "    f = int(input())\n",
    "    f_roll = set(map(int, input().split()))\n",
    "    print(len(e_roll.intersection(f_roll)))    # or, print(len(e_roll & f_roll))"
   ]
  },
  {
   "cell_type": "code",
   "execution_count": 73,
   "metadata": {},
   "outputs": [
    {
     "name": "stdout",
     "output_type": "stream",
     "text": [
      "9\n",
      "10 1 2 3 11 21 55 6 8\n",
      "9\n",
      "1 2 3 4 5 6 7 8 9\n",
      "8\n"
     ]
    }
   ],
   "source": [
    "# Question 14: Set .symmetric_difference() Operation\n",
    "\n",
    "if __name__ == '__main__':\n",
    "    e = int(input())\n",
    "    e_roll = set(map(int, input().split()))\n",
    "    f = int(input())\n",
    "    f_roll = set(map(int, input().split()))\n",
    "    print(len(e_roll.symmetric_difference(f_roll)))  # or, print(len(e_roll ^ f_roll))"
   ]
  },
  {
   "cell_type": "code",
   "execution_count": 74,
   "metadata": {},
   "outputs": [
    {
     "name": "stdout",
     "output_type": "stream",
     "text": [
      "9\n",
      "1 2 3 4 5 6 7 8 9\n",
      "5\n",
      "1 2 3 5 6\n",
      "4\n"
     ]
    }
   ],
   "source": [
    "# Question 15: Set .difference() Operation\n",
    "\n",
    "if __name__ == '__main__':\n",
    "    e = int(input())\n",
    "    e_roll = set(map(int, input().split()))\n",
    "    f = int(input())\n",
    "    f_roll = set(map(int, input().split()))\n",
    "    print(len(e_roll.difference(f_roll)))   # or, print(len(e_roll - f_roll))"
   ]
  },
  {
   "cell_type": "code",
   "execution_count": 75,
   "metadata": {},
   "outputs": [
    {
     "name": "stdout",
     "output_type": "stream",
     "text": [
      "16\n",
      "1 2 3 4 5 6 7 8 9 10 11 12 13 14 24 52\n",
      "4\n",
      "intersection_update 10\n",
      "2 3 5 6 8 9 1 4 7 11\n",
      "update 2\n",
      "55 66\n",
      "symmetric_difference_update 5\n",
      "22 7 35 62 58\n",
      "difference_update 7\n",
      "11 22 35 55 58 62 66\n",
      "38\n"
     ]
    }
   ],
   "source": [
    "# Question 16: Set Mutations\n",
    "\n",
    "if __name__ == '__main__':\n",
    "    n = int(input())\n",
    "    arr = set(map(int, input().split()))\n",
    "    op = int(input())\n",
    "    \n",
    "    for i in range(op):\n",
    "        c = input().strip().split(' ')\n",
    "        ele = set(map(int, input().strip().split(' ')))\n",
    "        \n",
    "        if c[0] == 'intersection_update':\n",
    "            arr &= ele     # arr.intersection_update(ele)\n",
    "        elif c[0] == 'update':\n",
    "            arr |= ele     # arr.update(ele)\n",
    "        elif c[0] == 'symmetric_difference_update':\n",
    "            arr ^= ele     # arr.symmetric_difference_update(ele)\n",
    "        elif c[0] == 'difference_update':\n",
    "            arr -= ele     # arr.difference_update(ele)\n",
    "            \n",
    "    print(sum(arr))"
   ]
  },
  {
   "cell_type": "code",
   "execution_count": 100,
   "metadata": {},
   "outputs": [
    {
     "name": "stdout",
     "output_type": "stream",
     "text": [
      "5\n",
      "1 2 3 6 5 4 4 2 5 3 6 1 6 5 3 2 4 1 2 5 1 4 3 6 8 4 3 1 5 6 2 \n",
      "8\n"
     ]
    }
   ],
   "source": [
    "# Question 17: The Captain's Room\n",
    "\n",
    "grp_size = int(input())\n",
    "arr = list(map(int, input().split()))\n",
    "arr.sort()\n",
    "room_no = (set(arr[0::2]) ^ set(arr[1::2]))\n",
    "print(room_no.pop())"
   ]
  },
  {
   "cell_type": "code",
   "execution_count": 82,
   "metadata": {},
   "outputs": [
    {
     "name": "stdout",
     "output_type": "stream",
     "text": [
      "3\n",
      "5\n",
      "1 2 3 5 6\n",
      "9\n",
      "9 8 5 6 3 2 1 4 7\n",
      "True\n",
      "1\n",
      "2\n",
      "5\n",
      "3 6 5 4 1\n",
      "False\n",
      "7\n",
      "1 2 3 5 6 8 9\n",
      "3\n",
      "9 8 2\n",
      "False\n"
     ]
    }
   ],
   "source": [
    "# Question 18: Check Subset\n",
    "\n",
    "case = int(input())\n",
    "for i in range(case):\n",
    "    a = int(input())\n",
    "    a_ele = set(map(int, input().split()))\n",
    "    b = int(input())\n",
    "    b_ele = set(map(int, input().split()))\n",
    "    \n",
    "    if b_ele & a_ele == a_ele:\n",
    "        print('True')\n",
    "    else:\n",
    "        print('False')\n"
   ]
  },
  {
   "cell_type": "code",
   "execution_count": 93,
   "metadata": {},
   "outputs": [
    {
     "name": "stdout",
     "output_type": "stream",
     "text": [
      "1 2 3 4 5 6 7 8 9 10 11 12 23 45 84 78\n",
      "2\n",
      "1 2 3 4 5\n",
      "100 11 12\n",
      "False\n"
     ]
    }
   ],
   "source": [
    "# Question 19: Check Strict Superset\n",
    "    \n",
    "if __name__ == '__main__':\n",
    "    a = set(map(int, input().split()))\n",
    "    n = int(input())\n",
    "    tf = 'True'\n",
    "    \n",
    "    for i in range(n):\n",
    "        sets = set(map(int, input().split()))\n",
    "        if a.issuperset(sets) == False or len(a) == len(sets):\n",
    "            tf = 'False'\n",
    "        \n",
    "    print(tf)"
   ]
  }
 ],
 "metadata": {
  "kernelspec": {
   "display_name": "Python 3",
   "language": "python",
   "name": "python3"
  },
  "language_info": {
   "codemirror_mode": {
    "name": "ipython",
    "version": 3
   },
   "file_extension": ".py",
   "mimetype": "text/x-python",
   "name": "python",
   "nbconvert_exporter": "python",
   "pygments_lexer": "ipython3",
   "version": "3.7.4"
  }
 },
 "nbformat": 4,
 "nbformat_minor": 4
}
