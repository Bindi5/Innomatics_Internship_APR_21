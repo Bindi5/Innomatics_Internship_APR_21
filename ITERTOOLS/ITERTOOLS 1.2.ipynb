{
 "cells": [
  {
   "cell_type": "code",
   "execution_count": 1,
   "metadata": {},
   "outputs": [
    {
     "name": "stdout",
     "output_type": "stream",
     "text": [
      "4 \n",
      "a a c d\n",
      "2\n",
      "0.833\n"
     ]
    }
   ],
   "source": [
    "# Iterables and Iterators\n",
    "\n",
    "from itertools import combinations\n",
    "\n",
    "n = int(input())\n",
    "lst = input().strip().split()\n",
    "k = int(input())\n",
    "\n",
    "a = [i+1 for i in range(n) if lst[i]=='a']\n",
    "com = list(combinations(list(i for i in range(1, n+1)),k))\n",
    "count = []\n",
    "\n",
    "for i in a:\n",
    "    for j in range(len(com)):\n",
    "        if (i in com[j]) and (com[j] not in count):\n",
    "            count.append(com[j])\n",
    "    \n",
    "print(round(len(count)/len(com), 3))"
   ]
  },
  {
   "cell_type": "code",
   "execution_count": 2,
   "metadata": {},
   "outputs": [
    {
     "name": "stdout",
     "output_type": "stream",
     "text": [
      "2 5 4\n",
      "3 7 8 9 \n",
      "5 5 7 8 9 10 \n",
      "206\n"
     ]
    }
   ],
   "source": [
    "# Maximize It!\n",
    "\n",
    "from itertools import product\n",
    "\n",
    "def func(x,m):\n",
    "    return sum([i**2 for i in x])%m\n",
    "\n",
    "k, m = 3, 1000\n",
    "n = [list(map(int, input().split()))[1:] for _ in range(k)]\n",
    "prod = list(product(*n))\n",
    "\n",
    "res = [func(i,m) for i in prod]\n",
    "print(max(res))"
   ]
  }
 ],
 "metadata": {
  "kernelspec": {
   "display_name": "Python 3",
   "language": "python",
   "name": "python3"
  },
  "language_info": {
   "codemirror_mode": {
    "name": "ipython",
    "version": 3
   },
   "file_extension": ".py",
   "mimetype": "text/x-python",
   "name": "python",
   "nbconvert_exporter": "python",
   "pygments_lexer": "ipython3",
   "version": "3.7.4"
  }
 },
 "nbformat": 4,
 "nbformat_minor": 4
}
