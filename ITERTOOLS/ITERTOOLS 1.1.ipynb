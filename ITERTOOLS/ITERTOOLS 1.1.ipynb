{
 "cells": [
  {
   "cell_type": "code",
   "execution_count": 2,
   "metadata": {},
   "outputs": [
    {
     "name": "stdout",
     "output_type": "stream",
     "text": [
      "1 2\n",
      "3 4\n",
      "(1, 3) (1, 4) (2, 3) (2, 4)\n"
     ]
    }
   ],
   "source": [
    "# itertools.product()\n",
    "\n",
    "from itertools import product\n",
    "\n",
    "A = list(map(int, input().strip().split()))\n",
    "B = list(map(int, input().strip().split()))\n",
    "\n",
    "cross = list(product(*[A, B]))\n",
    "\n",
    "print(*cross, sep=\" \")"
   ]
  },
  {
   "cell_type": "code",
   "execution_count": 13,
   "metadata": {},
   "outputs": [
    {
     "name": "stdout",
     "output_type": "stream",
     "text": [
      "HACK 2\n",
      "AC\n",
      "AH\n",
      "AK\n",
      "CA\n",
      "CH\n",
      "CK\n",
      "HA\n",
      "HC\n",
      "HK\n",
      "KA\n",
      "KC\n",
      "KH\n"
     ]
    }
   ],
   "source": [
    "# itertools.permutations()\n",
    "\n",
    "from itertools import permutations\n",
    "\n",
    "s = input().strip().split()\n",
    "per = list(permutations(s[0], int(s[1])))\n",
    "per.sort()\n",
    "for i in per:\n",
    "    print(*i, sep=\"\")\n",
    "    "
   ]
  },
  {
   "cell_type": "code",
   "execution_count": 46,
   "metadata": {},
   "outputs": [
    {
     "name": "stdout",
     "output_type": "stream",
     "text": [
      "HACK 2\n",
      "A\n",
      "C\n",
      "H\n",
      "K\n",
      "AC\n",
      "AH\n",
      "AK\n",
      "CH\n",
      "CK\n",
      "HK\n"
     ]
    }
   ],
   "source": [
    "# itertools.combinations()\n",
    "\n",
    "from itertools import combinations\n",
    "\n",
    "s = input().strip().split()\n",
    "for i in range(1,int(s[1])+1):\n",
    "    comb = list(combinations(sorted(s[0]), i))\n",
    "    for j in comb:\n",
    "        print(*j, sep=\"\")"
   ]
  },
  {
   "cell_type": "code",
   "execution_count": 47,
   "metadata": {},
   "outputs": [
    {
     "name": "stdout",
     "output_type": "stream",
     "text": [
      "HACK 2\n",
      "AA\n",
      "AC\n",
      "AH\n",
      "AK\n",
      "CC\n",
      "CH\n",
      "CK\n",
      "HH\n",
      "HK\n",
      "KK\n"
     ]
    }
   ],
   "source": [
    "# itertools.combinations_with_replacement()\n",
    "\n",
    "from itertools import combinations_with_replacement\n",
    "\n",
    "s , n = input().strip().split()\n",
    "\n",
    "comb = list(combinations_with_replacement(sorted(s), int(n)))\n",
    "for j in comb:\n",
    "    print(*j, sep=\"\")"
   ]
  },
  {
   "cell_type": "code",
   "execution_count": 92,
   "metadata": {},
   "outputs": [
    {
     "name": "stdout",
     "output_type": "stream",
     "text": [
      "1222311\n",
      "(1, 1) (3, 2) (1, 3) (2, 1)\n"
     ]
    }
   ],
   "source": [
    "# Compress the String!\n",
    "\n",
    "from itertools import groupby\n",
    "  \n",
    "s = input()\n",
    "  \n",
    "s_iter = groupby(s, lambda x : x[0])\n",
    "lst = []\n",
    "\n",
    "for key, group in s_iter:\n",
    "    kg = {key : len(list(group))}\n",
    "    lst.append((list(kg.values())[0], int(key)))\n",
    "\n",
    "print(*lst, sep=\" \")"
   ]
  }
 ],
 "metadata": {
  "kernelspec": {
   "display_name": "Python 3",
   "language": "python",
   "name": "python3"
  },
  "language_info": {
   "codemirror_mode": {
    "name": "ipython",
    "version": 3
   },
   "file_extension": ".py",
   "mimetype": "text/x-python",
   "name": "python",
   "nbconvert_exporter": "python",
   "pygments_lexer": "ipython3",
   "version": "3.7.4"
  }
 },
 "nbformat": 4,
 "nbformat_minor": 4
}
