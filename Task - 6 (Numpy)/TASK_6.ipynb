{
 "cells": [
  {
   "cell_type": "code",
   "execution_count": 11,
   "metadata": {},
   "outputs": [
    {
     "name": "stdout",
     "output_type": "stream",
     "text": [
      "1 2 3 4 -8 -10\n",
      "[-10.  -8.   4.   3.   2.   1.]\n"
     ]
    }
   ],
   "source": [
    "# Question 1: Arrays\n",
    "\n",
    "import numpy\n",
    "\n",
    "def arrays(arr):\n",
    "    a = numpy.array(arr)\n",
    "    lst = [i for i in a[::-1]]    \n",
    "    return numpy.array(lst, float)\n",
    "\n",
    "arr = input().strip().split(' ')\n",
    "result = arrays(arr)\n",
    "print(result)"
   ]
  },
  {
   "cell_type": "code",
   "execution_count": 22,
   "metadata": {
    "scrolled": true
   },
   "outputs": [
    {
     "name": "stdout",
     "output_type": "stream",
     "text": [
      "1 2 3 4 5 6 7 8 9\n",
      "[[1 2 3]\n",
      " [4 5 6]\n",
      " [7 8 9]]\n"
     ]
    }
   ],
   "source": [
    "# Question 2: Shape and Reshape\n",
    "\n",
    "import numpy as np\n",
    "\n",
    "arr = input().strip().split(' ')\n",
    "array = np.array(arr, int)\n",
    "print(np.reshape(array,(3,3)))"
   ]
  },
  {
   "cell_type": "code",
   "execution_count": 38,
   "metadata": {},
   "outputs": [
    {
     "name": "stdout",
     "output_type": "stream",
     "text": [
      "2 2\n",
      "1 2\n",
      "3 4\n",
      "[[1 3]\n",
      " [2 4]]\n",
      "[1 2 3 4]\n"
     ]
    }
   ],
   "source": [
    "# Question 3: Transpose and Flatten\n",
    "\n",
    "import numpy as np\n",
    "\n",
    "arr = input().strip().split(' ')\n",
    "lst = []\n",
    "for i in range(int(arr[0])):\n",
    "    p = input().strip().split()\n",
    "    lst.append(p)\n",
    "    \n",
    "ar = np.array(lst, int)\n",
    "print(np.transpose(ar))\n",
    "print(ar.flatten())"
   ]
  },
  {
   "cell_type": "code",
   "execution_count": 64,
   "metadata": {
    "scrolled": true
   },
   "outputs": [
    {
     "name": "stdout",
     "output_type": "stream",
     "text": [
      "3 2 2\n",
      "1 2\n",
      "1 2\n",
      "1 2\n",
      "3 2\n",
      "3 2\n",
      "[[1 2]\n",
      " [1 2]\n",
      " [1 2]\n",
      " [3 2]\n",
      " [3 2]]\n"
     ]
    }
   ],
   "source": [
    "# Question 4: Concatenate\n",
    "\n",
    "import numpy as np\n",
    "\n",
    "n, m, p = map(int, input().strip().split())\n",
    "\n",
    "lst1 = [input().strip().split(' ') for i in range(n)]\n",
    "lst2 = [input().strip().split(' ') for i in range(m)]\n",
    "    \n",
    "arr1 = np.array(lst1, int)\n",
    "arr2 = np.array(lst2, int)\n",
    "print(np.concatenate((arr1, arr2), axis = 0))\n"
   ]
  },
  {
   "cell_type": "code",
   "execution_count": 37,
   "metadata": {},
   "outputs": [
    {
     "name": "stdout",
     "output_type": "stream",
     "text": [
      "3 2 3\n",
      "[[[0 0 0]\n",
      "  [0 0 0]]\n",
      "\n",
      " [[0 0 0]\n",
      "  [0 0 0]]\n",
      "\n",
      " [[0 0 0]\n",
      "  [0 0 0]]]\n",
      "[[[1 1 1]\n",
      "  [1 1 1]]\n",
      "\n",
      " [[1 1 1]\n",
      "  [1 1 1]]\n",
      "\n",
      " [[1 1 1]\n",
      "  [1 1 1]]]\n"
     ]
    }
   ],
   "source": [
    "# Question 5: Zeros and Ones\n",
    "\n",
    "import numpy as np\n",
    "\n",
    "inp = input().strip().split(' ')\n",
    "inp_lst = list(np.array(inp,int))\n",
    "\n",
    "print(np.zeros(inp_lst, dtype = np.int))\n",
    "print(np.ones(inp_lst, dtype = np.int))"
   ]
  },
  {
   "cell_type": "code",
   "execution_count": 6,
   "metadata": {},
   "outputs": [
    {
     "name": "stdout",
     "output_type": "stream",
     "text": [
      "3 3\n",
      "[[ 1.  0.  0.]\n",
      " [ 0.  1.  0.]\n",
      " [ 0.  0.  1.]]\n"
     ]
    }
   ],
   "source": [
    "# Question 6: Eye and Identity\n",
    "\n",
    "import numpy as np\n",
    "np.set_printoptions(legacy='1.13')\n",
    "\n",
    "n, m = map(int, input().strip().split(' '))\n",
    "print(np.eye(n,m))"
   ]
  },
  {
   "cell_type": "code",
   "execution_count": 28,
   "metadata": {},
   "outputs": [
    {
     "name": "stdout",
     "output_type": "stream",
     "text": [
      "2 4\n",
      "1 2 3 4\n",
      "1 2 3 4\n",
      "5 6 7 8\n",
      "5 6 7 8\n",
      "[[ 6  8 10 12]\n",
      " [ 6  8 10 12]]\n",
      "[[-4 -4 -4 -4]\n",
      " [-4 -4 -4 -4]]\n",
      "[[ 5 12 21 32]\n",
      " [ 5 12 21 32]]\n",
      "[[0 0 0 0]\n",
      " [0 0 0 0]]\n",
      "[[1 2 3 4]\n",
      " [1 2 3 4]]\n",
      "[[    1    64  2187 65536]\n",
      " [    1    64  2187 65536]]\n"
     ]
    }
   ],
   "source": [
    "# Question 7: Array Mathematics\n",
    "\n",
    "import numpy as np\n",
    "\n",
    "def operation(a,b):\n",
    "    print(np.add(a,b))\n",
    "    print(np.subtract(a,b))\n",
    "    print(np.multiply(a,b))\n",
    "    print(np.floor_divide(a,b))\n",
    "    print(np.mod(a,b))\n",
    "    print(np.power(a,b))\n",
    "    \n",
    "if __name__ == '__main__':\n",
    "    n, m = map(int, input().split(' '))\n",
    "    a = [np.array(input().split(), int) for _ in range(n)]\n",
    "    b = [np.array(input().split(), int) for _ in range(n)]\n",
    "    operation(a,b)"
   ]
  },
  {
   "cell_type": "code",
   "execution_count": 29,
   "metadata": {},
   "outputs": [
    {
     "name": "stdout",
     "output_type": "stream",
     "text": [
      "1.1 2.2 3.3 4.4 5.5 6.6 7.7 8.8 9.9\n",
      "[ 1.  2.  3.  4.  5.  6.  7.  8.  9.]\n",
      "[  2.   3.   4.   5.   6.   7.   8.   9.  10.]\n",
      "[  1.   2.   3.   4.   6.   7.   8.   9.  10.]\n"
     ]
    }
   ],
   "source": [
    "# Question 8: Floor, Ceil and Rint\n",
    "\n",
    "import numpy as np\n",
    "np.set_printoptions(legacy = '1.13')\n",
    "\n",
    "n = np.array(input().strip().split(' '), float)\n",
    "\n",
    "print(np.floor(n))\n",
    "print(np.ceil(n))\n",
    "print(np.rint(n))"
   ]
  },
  {
   "cell_type": "code",
   "execution_count": 30,
   "metadata": {},
   "outputs": [
    {
     "name": "stdout",
     "output_type": "stream",
     "text": [
      "2 2\n",
      "1 2\n",
      "3 4\n",
      "24\n"
     ]
    }
   ],
   "source": [
    "# Question 9: Sum and Prod\n",
    "\n",
    "import numpy as np\n",
    "\n",
    "n, m = map(int, input().strip().split(' '))\n",
    "inp = [np.array(input().strip().split(), int) for _ in range(n)]\n",
    "\n",
    "print(np.prod(np.sum(inp, axis=0)))"
   ]
  },
  {
   "cell_type": "code",
   "execution_count": 32,
   "metadata": {},
   "outputs": [
    {
     "name": "stdout",
     "output_type": "stream",
     "text": [
      "4 2\n",
      "2 5\n",
      "3 7\n",
      "1 3\n",
      "4 0\n",
      "3\n"
     ]
    }
   ],
   "source": [
    "# Question 10: Min and Max\n",
    "\n",
    "import numpy as np\n",
    "\n",
    "n, m = map(int, input().strip().split(' '))\n",
    "inp = [np.array(input().strip().split(), int) for _ in range(n)]\n",
    "\n",
    "print(np.max(np.min(inp, axis = 1)))"
   ]
  },
  {
   "cell_type": "code",
   "execution_count": 2,
   "metadata": {},
   "outputs": [
    {
     "name": "stdout",
     "output_type": "stream",
     "text": [
      "2 2\n",
      "1 2\n",
      "3 4\n",
      "[1.5 3.5]\n",
      "[1. 1.]\n",
      "1.11803398875\n"
     ]
    }
   ],
   "source": [
    "# Question 11: Mean, Var, and Std\n",
    "\n",
    "import numpy as np\n",
    "\n",
    "n, m = map(int, input().strip().split())\n",
    "arr = [np.array(input().strip().split(), int) for _ in range(n)]\n",
    "\n",
    "print(np.mean(arr, axis=1))\n",
    "print(np.var(arr, axis=0))\n",
    "print(round(np.std(arr, axis=None),11))"
   ]
  },
  {
   "cell_type": "code",
   "execution_count": 3,
   "metadata": {},
   "outputs": [
    {
     "name": "stdout",
     "output_type": "stream",
     "text": [
      "2\n",
      "1 2\n",
      "3 4\n",
      "1 2\n",
      "3 4\n",
      "[[ 7 10]\n",
      " [15 22]]\n"
     ]
    }
   ],
   "source": [
    "# Question 12: Dot and Cross\n",
    "\n",
    "import numpy as np\n",
    "\n",
    "n = int(input())\n",
    "a = [np.array(input().strip().split(), int) for _ in range(n)]\n",
    "b = [np.array(input().strip().split(), int) for _ in range(n)]\n",
    "\n",
    "print(np.dot(a,b))"
   ]
  },
  {
   "cell_type": "code",
   "execution_count": 8,
   "metadata": {},
   "outputs": [
    {
     "name": "stdout",
     "output_type": "stream",
     "text": [
      "0 1\n",
      "2 3\n",
      "3\n",
      "[[0 0]\n",
      " [2 3]]\n"
     ]
    }
   ],
   "source": [
    "# Question 13: Inner and Outer\n",
    "\n",
    "import numpy as np\n",
    "\n",
    "a = np.array(input().strip().split(), int)\n",
    "b = np.array(input().strip().split(), int)\n",
    "\n",
    "print(np.inner(a,b))\n",
    "print(np.outer(a,b))"
   ]
  },
  {
   "cell_type": "code",
   "execution_count": 25,
   "metadata": {},
   "outputs": [
    {
     "name": "stdout",
     "output_type": "stream",
     "text": [
      "1.1 2 3\n",
      "0\n",
      "3.0\n"
     ]
    }
   ],
   "source": [
    "# Question 14: Polynomials\n",
    "\n",
    "import numpy as np\n",
    "\n",
    "inp = input().strip().split(' ')\n",
    "p = np.poly1d(np.array(inp, float))\n",
    "pos = int(input())\n",
    "\n",
    "print(np.polyval(p,pos))"
   ]
  },
  {
   "cell_type": "code",
   "execution_count": 26,
   "metadata": {},
   "outputs": [
    {
     "name": "stdout",
     "output_type": "stream",
     "text": [
      "2\n",
      "1.1 1.1\n",
      "1.1 1.1\n",
      "0.0\n"
     ]
    }
   ],
   "source": [
    "# Question 15: Linear Algebra\n",
    "\n",
    "import numpy as np\n",
    "\n",
    "n = int(input())\n",
    "mat = [np.array(input().strip().split(), float) for _ in range(n)]\n",
    "print(round(np.linalg.det(mat),2))"
   ]
  }
 ],
 "metadata": {
  "kernelspec": {
   "display_name": "Python 3",
   "language": "python",
   "name": "python3"
  },
  "language_info": {
   "codemirror_mode": {
    "name": "ipython",
    "version": 3
   },
   "file_extension": ".py",
   "mimetype": "text/x-python",
   "name": "python",
   "nbconvert_exporter": "python",
   "pygments_lexer": "ipython3",
   "version": "3.7.4"
  }
 },
 "nbformat": 4,
 "nbformat_minor": 4
}
