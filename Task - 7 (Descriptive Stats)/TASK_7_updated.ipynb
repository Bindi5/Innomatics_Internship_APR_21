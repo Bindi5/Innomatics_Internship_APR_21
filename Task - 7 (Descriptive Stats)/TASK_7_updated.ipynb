{
 "cells": [
  {
   "cell_type": "markdown",
   "metadata": {},
   "source": [
    "### Small Descrition about the DataSet"
   ]
  },
  {
   "cell_type": "code",
   "execution_count": 27,
   "metadata": {},
   "outputs": [
    {
     "data": {
      "text/html": [
       "<div>\n",
       "<style scoped>\n",
       "    .dataframe tbody tr th:only-of-type {\n",
       "        vertical-align: middle;\n",
       "    }\n",
       "\n",
       "    .dataframe tbody tr th {\n",
       "        vertical-align: top;\n",
       "    }\n",
       "\n",
       "    .dataframe thead th {\n",
       "        text-align: right;\n",
       "    }\n",
       "</style>\n",
       "<table border=\"1\" class=\"dataframe\">\n",
       "  <thead>\n",
       "    <tr style=\"text-align: right;\">\n",
       "      <th></th>\n",
       "      <th>Mthly_HH_Income</th>\n",
       "      <th>Mthly_HH_Expense</th>\n",
       "      <th>No_of_Fly_Members</th>\n",
       "      <th>Emi_or_Rent_Amt</th>\n",
       "      <th>Annual_HH_Income</th>\n",
       "      <th>Highest_Qualified_Member</th>\n",
       "      <th>No_of_Earning_Members</th>\n",
       "    </tr>\n",
       "  </thead>\n",
       "  <tbody>\n",
       "    <tr>\n",
       "      <th>0</th>\n",
       "      <td>5000</td>\n",
       "      <td>8000</td>\n",
       "      <td>3</td>\n",
       "      <td>2000</td>\n",
       "      <td>64200</td>\n",
       "      <td>Under-Graduate</td>\n",
       "      <td>1</td>\n",
       "    </tr>\n",
       "    <tr>\n",
       "      <th>1</th>\n",
       "      <td>6000</td>\n",
       "      <td>7000</td>\n",
       "      <td>2</td>\n",
       "      <td>3000</td>\n",
       "      <td>79920</td>\n",
       "      <td>Illiterate</td>\n",
       "      <td>1</td>\n",
       "    </tr>\n",
       "    <tr>\n",
       "      <th>2</th>\n",
       "      <td>10000</td>\n",
       "      <td>4500</td>\n",
       "      <td>2</td>\n",
       "      <td>0</td>\n",
       "      <td>112800</td>\n",
       "      <td>Under-Graduate</td>\n",
       "      <td>1</td>\n",
       "    </tr>\n",
       "    <tr>\n",
       "      <th>3</th>\n",
       "      <td>10000</td>\n",
       "      <td>2000</td>\n",
       "      <td>1</td>\n",
       "      <td>0</td>\n",
       "      <td>97200</td>\n",
       "      <td>Illiterate</td>\n",
       "      <td>1</td>\n",
       "    </tr>\n",
       "    <tr>\n",
       "      <th>4</th>\n",
       "      <td>12500</td>\n",
       "      <td>12000</td>\n",
       "      <td>2</td>\n",
       "      <td>3000</td>\n",
       "      <td>147000</td>\n",
       "      <td>Graduate</td>\n",
       "      <td>1</td>\n",
       "    </tr>\n",
       "  </tbody>\n",
       "</table>\n",
       "</div>"
      ],
      "text/plain": [
       "   Mthly_HH_Income  Mthly_HH_Expense  No_of_Fly_Members  Emi_or_Rent_Amt  \\\n",
       "0             5000              8000                  3             2000   \n",
       "1             6000              7000                  2             3000   \n",
       "2            10000              4500                  2                0   \n",
       "3            10000              2000                  1                0   \n",
       "4            12500             12000                  2             3000   \n",
       "\n",
       "   Annual_HH_Income Highest_Qualified_Member  No_of_Earning_Members  \n",
       "0             64200           Under-Graduate                      1  \n",
       "1             79920               Illiterate                      1  \n",
       "2            112800           Under-Graduate                      1  \n",
       "3             97200               Illiterate                      1  \n",
       "4            147000                 Graduate                      1  "
      ]
     },
     "execution_count": 27,
     "metadata": {},
     "output_type": "execute_result"
    }
   ],
   "source": [
    "# Importing all the necessary Libraries\n",
    "\n",
    "import numpy as np\n",
    "import matplotlib.pyplot as plt\n",
    "import seaborn as sns\n",
    "import pandas as pd\n",
    "from scipy import stats\n",
    "from scipy.stats import norm\n",
    "import seaborn as sns\n",
    "from scipy.stats import boxcox \n",
    "\n",
    "\n",
    "df = pd.read_csv('../../INNOMATICS_TASK/data.csv', index_col=False)\n",
    "df.head()"
   ]
  },
  {
   "cell_type": "code",
   "execution_count": 3,
   "metadata": {},
   "outputs": [
    {
     "data": {
      "text/html": [
       "<div>\n",
       "<style scoped>\n",
       "    .dataframe tbody tr th:only-of-type {\n",
       "        vertical-align: middle;\n",
       "    }\n",
       "\n",
       "    .dataframe tbody tr th {\n",
       "        vertical-align: top;\n",
       "    }\n",
       "\n",
       "    .dataframe thead th {\n",
       "        text-align: right;\n",
       "    }\n",
       "</style>\n",
       "<table border=\"1\" class=\"dataframe\">\n",
       "  <thead>\n",
       "    <tr style=\"text-align: right;\">\n",
       "      <th></th>\n",
       "      <th>Mthly_HH_Income</th>\n",
       "      <th>Mthly_HH_Expense</th>\n",
       "      <th>No_of_Fly_Members</th>\n",
       "      <th>Emi_or_Rent_Amt</th>\n",
       "      <th>Annual_HH_Income</th>\n",
       "      <th>No_of_Earning_Members</th>\n",
       "    </tr>\n",
       "  </thead>\n",
       "  <tbody>\n",
       "    <tr>\n",
       "      <th>count</th>\n",
       "      <td>50.000000</td>\n",
       "      <td>50.000000</td>\n",
       "      <td>50.000000</td>\n",
       "      <td>50.000000</td>\n",
       "      <td>5.000000e+01</td>\n",
       "      <td>50.000000</td>\n",
       "    </tr>\n",
       "    <tr>\n",
       "      <th>mean</th>\n",
       "      <td>41558.000000</td>\n",
       "      <td>18818.000000</td>\n",
       "      <td>4.060000</td>\n",
       "      <td>3060.000000</td>\n",
       "      <td>4.900190e+05</td>\n",
       "      <td>1.460000</td>\n",
       "    </tr>\n",
       "    <tr>\n",
       "      <th>std</th>\n",
       "      <td>26097.908979</td>\n",
       "      <td>12090.216824</td>\n",
       "      <td>1.517382</td>\n",
       "      <td>6241.434948</td>\n",
       "      <td>3.201358e+05</td>\n",
       "      <td>0.734291</td>\n",
       "    </tr>\n",
       "    <tr>\n",
       "      <th>min</th>\n",
       "      <td>5000.000000</td>\n",
       "      <td>2000.000000</td>\n",
       "      <td>1.000000</td>\n",
       "      <td>0.000000</td>\n",
       "      <td>6.420000e+04</td>\n",
       "      <td>1.000000</td>\n",
       "    </tr>\n",
       "    <tr>\n",
       "      <th>25%</th>\n",
       "      <td>23550.000000</td>\n",
       "      <td>10000.000000</td>\n",
       "      <td>3.000000</td>\n",
       "      <td>0.000000</td>\n",
       "      <td>2.587500e+05</td>\n",
       "      <td>1.000000</td>\n",
       "    </tr>\n",
       "    <tr>\n",
       "      <th>50%</th>\n",
       "      <td>35000.000000</td>\n",
       "      <td>15500.000000</td>\n",
       "      <td>4.000000</td>\n",
       "      <td>0.000000</td>\n",
       "      <td>4.474200e+05</td>\n",
       "      <td>1.000000</td>\n",
       "    </tr>\n",
       "    <tr>\n",
       "      <th>75%</th>\n",
       "      <td>50375.000000</td>\n",
       "      <td>25000.000000</td>\n",
       "      <td>5.000000</td>\n",
       "      <td>3500.000000</td>\n",
       "      <td>5.947200e+05</td>\n",
       "      <td>2.000000</td>\n",
       "    </tr>\n",
       "    <tr>\n",
       "      <th>max</th>\n",
       "      <td>100000.000000</td>\n",
       "      <td>50000.000000</td>\n",
       "      <td>7.000000</td>\n",
       "      <td>35000.000000</td>\n",
       "      <td>1.404000e+06</td>\n",
       "      <td>4.000000</td>\n",
       "    </tr>\n",
       "  </tbody>\n",
       "</table>\n",
       "</div>"
      ],
      "text/plain": [
       "       Mthly_HH_Income  Mthly_HH_Expense  No_of_Fly_Members  Emi_or_Rent_Amt  \\\n",
       "count        50.000000         50.000000          50.000000        50.000000   \n",
       "mean      41558.000000      18818.000000           4.060000      3060.000000   \n",
       "std       26097.908979      12090.216824           1.517382      6241.434948   \n",
       "min        5000.000000       2000.000000           1.000000         0.000000   \n",
       "25%       23550.000000      10000.000000           3.000000         0.000000   \n",
       "50%       35000.000000      15500.000000           4.000000         0.000000   \n",
       "75%       50375.000000      25000.000000           5.000000      3500.000000   \n",
       "max      100000.000000      50000.000000           7.000000     35000.000000   \n",
       "\n",
       "       Annual_HH_Income  No_of_Earning_Members  \n",
       "count      5.000000e+01              50.000000  \n",
       "mean       4.900190e+05               1.460000  \n",
       "std        3.201358e+05               0.734291  \n",
       "min        6.420000e+04               1.000000  \n",
       "25%        2.587500e+05               1.000000  \n",
       "50%        4.474200e+05               1.000000  \n",
       "75%        5.947200e+05               2.000000  \n",
       "max        1.404000e+06               4.000000  "
      ]
     },
     "execution_count": 3,
     "metadata": {},
     "output_type": "execute_result"
    }
   ],
   "source": [
    "df.describe()"
   ]
  },
  {
   "cell_type": "code",
   "execution_count": 4,
   "metadata": {},
   "outputs": [
    {
     "name": "stdout",
     "output_type": "stream",
     "text": [
      "\n",
      "\n",
      "Shape of the Data Set : (50, 7)\n"
     ]
    }
   ],
   "source": [
    "print('\\n\\nShape of the Data Set :',df.shape)"
   ]
  },
  {
   "cell_type": "markdown",
   "metadata": {},
   "source": [
    "<h2>MEAN</h2>"
   ]
  },
  {
   "cell_type": "markdown",
   "metadata": {},
   "source": [
    "<p>Mean is an essential concept in Mathematics and Statistics. It is the Average value in a collection of numbers.\n",
    "In Statistics, Mean is a Measure of Central Tendency of a Probability Distribution, also known as Expected value.\n",
    "\n",
    "There are different ways of measuring the central tendency of a list of values. There are multiple ways to calculate the mean.\n",
    "Two most popular ways are Arithmetic Mean and Geometric Mean, but in most of the cases we generally use Arithmetic Mean.\n",
    "\n",
    "<b>Arithmetic Mean: </b>It is the sum of all values in a collection of numbers divided by the total number in the collection. </p>\n",
    "\n",
    "<p><b>Formula : </b></p>\n",
    "\n",
    "A=[1,2,3,4,5] <br>\n",
    "<br>\n",
    "<b>Mean : $$\\mu =  \\frac{\\sum_{i=0}^{n} Ai}{Length(A)} $$</b>\n",
    "In this case : <b>$$\\mu =  \\frac {1+2+3+4+5}{5}  =  \\frac {15}{5} = 3 $$</b>"
   ]
  },
  {
   "cell_type": "code",
   "execution_count": 10,
   "metadata": {},
   "outputs": [
    {
     "name": "stdout",
     "output_type": "stream",
     "text": [
      "Mean : \n",
      "\n",
      "Mthly_HH_Income           41558.00\n",
      "Mthly_HH_Expense          18818.00\n",
      "No_of_Fly_Members             4.06\n",
      "Emi_or_Rent_Amt            3060.00\n",
      "Annual_HH_Income         490019.04\n",
      "No_of_Earning_Members         1.46\n",
      "dtype: float64\n"
     ]
    }
   ],
   "source": [
    "# With Library Function\n",
    "\n",
    "print('Mean :' ,'\\n')\n",
    "print(df.mean())"
   ]
  },
  {
   "cell_type": "code",
   "execution_count": 9,
   "metadata": {},
   "outputs": [
    {
     "name": "stdout",
     "output_type": "stream",
     "text": [
      "Mean : 41558.0\n"
     ]
    }
   ],
   "source": [
    "# Without library Function, using a single Feature\n",
    "\n",
    "income = [i for i in df['Mthly_HH_Income']]\n",
    "print('Mean :', sum(income)/len(income))"
   ]
  },
  {
   "cell_type": "markdown",
   "metadata": {},
   "source": [
    "### MEDIAN"
   ]
  },
  {
   "cell_type": "markdown",
   "metadata": {},
   "source": [
    "<p>Median is the Middle Number of a Sorted Data Set. <br>\n",
    "If the no. of elements is <b>ODD</b>, \n",
    "    First, list the elements in ascending order, then take the Middle Value from that, which will be the Median.<br>\n",
    "If the no. of elements is <b>EVEN</b>,\n",
    "    List the elements in Ascending order, then first take the Middle Two Numbers, then calculate the Mean of that two numbers, that will be the Median. </p>"
   ]
  },
  {
   "cell_type": "code",
   "execution_count": 7,
   "metadata": {},
   "outputs": [
    {
     "name": "stdout",
     "output_type": "stream",
     "text": [
      "Median (Even) : 35000.0\n"
     ]
    }
   ],
   "source": [
    "# Without library function\n",
    "\n",
    "income = [i for i in df['Mthly_HH_Income']]\n",
    "income.sort()\n",
    "\n",
    "if len(income)%2 != 0:\n",
    "    print('Median (Odd) :', income[len(income)//2])\n",
    "else:\n",
    "    m = [income[(len(income)//2) - 1] , income[len(income)//2]]\n",
    "    print('Median (Even) :', sum(m)/len(m))"
   ]
  },
  {
   "cell_type": "code",
   "execution_count": 11,
   "metadata": {},
   "outputs": [
    {
     "name": "stdout",
     "output_type": "stream",
     "text": [
      "\n",
      "Median : \n",
      "\n",
      "Mthly_HH_Income           35000.0\n",
      "Mthly_HH_Expense          15500.0\n",
      "No_of_Fly_Members             4.0\n",
      "Emi_or_Rent_Amt               0.0\n",
      "Annual_HH_Income         447420.0\n",
      "No_of_Earning_Members         1.0\n",
      "dtype: float64\n"
     ]
    }
   ],
   "source": [
    "# With Library Function\n",
    "\n",
    "print('\\nMedian :','\\n')\n",
    "print(df.median())"
   ]
  },
  {
   "cell_type": "markdown",
   "metadata": {},
   "source": [
    "### MODE"
   ]
  },
  {
   "cell_type": "markdown",
   "metadata": {},
   "source": [
    "<p>This is an another Measure of Central Tendency in Statistics. Mode is the <b>Most Frequent Value/Values</b> among a group of Values.</p>"
   ]
  },
  {
   "cell_type": "code",
   "execution_count": 12,
   "metadata": {},
   "outputs": [
    {
     "name": "stdout",
     "output_type": "stream",
     "text": [
      "Mode : [45000]\n"
     ]
    }
   ],
   "source": [
    "# Without Library Function\n",
    "\n",
    "maxx=0\n",
    "mode = []\n",
    "income = [i for i in df['Mthly_HH_Income']]\n",
    "for i in income:\n",
    "    if income.count(i) > maxx:\n",
    "        maxx = income.count(i)\n",
    "        \n",
    "for i in income:\n",
    "    if income.count(i) == maxx and i not in mode:\n",
    "        mode.append(i)\n",
    "print('Mode :', mode)"
   ]
  },
  {
   "cell_type": "code",
   "execution_count": 13,
   "metadata": {},
   "outputs": [
    {
     "name": "stdout",
     "output_type": "stream",
     "text": [
      "\n",
      "Mode : \n",
      "\n"
     ]
    },
    {
     "data": {
      "text/html": [
       "<div>\n",
       "<style scoped>\n",
       "    .dataframe tbody tr th:only-of-type {\n",
       "        vertical-align: middle;\n",
       "    }\n",
       "\n",
       "    .dataframe tbody tr th {\n",
       "        vertical-align: top;\n",
       "    }\n",
       "\n",
       "    .dataframe thead th {\n",
       "        text-align: right;\n",
       "    }\n",
       "</style>\n",
       "<table border=\"1\" class=\"dataframe\">\n",
       "  <thead>\n",
       "    <tr style=\"text-align: right;\">\n",
       "      <th></th>\n",
       "      <th>Mthly_HH_Income</th>\n",
       "      <th>Mthly_HH_Expense</th>\n",
       "      <th>No_of_Fly_Members</th>\n",
       "      <th>Emi_or_Rent_Amt</th>\n",
       "      <th>Annual_HH_Income</th>\n",
       "      <th>Highest_Qualified_Member</th>\n",
       "      <th>No_of_Earning_Members</th>\n",
       "    </tr>\n",
       "  </thead>\n",
       "  <tbody>\n",
       "    <tr>\n",
       "      <th>0</th>\n",
       "      <td>45000</td>\n",
       "      <td>25000</td>\n",
       "      <td>4</td>\n",
       "      <td>0</td>\n",
       "      <td>590400</td>\n",
       "      <td>Graduate</td>\n",
       "      <td>1</td>\n",
       "    </tr>\n",
       "  </tbody>\n",
       "</table>\n",
       "</div>"
      ],
      "text/plain": [
       "   Mthly_HH_Income  Mthly_HH_Expense  No_of_Fly_Members  Emi_or_Rent_Amt  \\\n",
       "0            45000             25000                  4                0   \n",
       "\n",
       "   Annual_HH_Income Highest_Qualified_Member  No_of_Earning_Members  \n",
       "0            590400                 Graduate                      1  "
      ]
     },
     "execution_count": 13,
     "metadata": {},
     "output_type": "execute_result"
    }
   ],
   "source": [
    "# With Library Function\n",
    "\n",
    "print('\\nMode :' ,'\\n')\n",
    "df.mode()"
   ]
  },
  {
   "cell_type": "markdown",
   "metadata": {},
   "source": [
    "### VARIANCE"
   ]
  },
  {
   "cell_type": "markdown",
   "metadata": {},
   "source": [
    "<p>The Average of the Squared Differences from the Mean. Also known as Measure of Spread i.e. how the Data is spread around the Mean.<br> \n",
    "To calculate the Variance, <br>\n",
    "1. Calculate the Mean <br>\n",
    "2. Then for each number, subtract the Mean and square the result <br>\n",
    "3. Then Calculate Mean of those Squared differences. </p>"
   ]
  },
  {
   "cell_type": "markdown",
   "metadata": {},
   "source": [
    "<b>Formula :</b>\n",
    "\n",
    "The Variance of the 'Population' : \n",
    "    $$ \\sigma^2 =\\frac {\\sum_{i=1}^{n} (x_i - \\mu_x)^2} {n} $$\n",
    "    Where \n",
    "    $$ x_i = i^{th} \\; Datapoint   $$ \n",
    "    $$ \\mu_x = \\; Mean \\; of \\; all \\; Datapoints $$ \n",
    "    $$ n= \\; Number \\; of Datapoints $$"
   ]
  },
  {
   "cell_type": "code",
   "execution_count": 14,
   "metadata": {},
   "outputs": [
    {
     "name": "stdout",
     "output_type": "stream",
     "text": [
      "Variance : 667478836.0\n"
     ]
    }
   ],
   "source": [
    "# Without Library Function\n",
    "\n",
    "income = [i for i in df['Mthly_HH_Income']]\n",
    "mean =  sum(income)/len(income)\n",
    "sq_diff = [(i-mean)**2 for i in income]\n",
    "variance = sum(sq_diff)/len(sq_diff)\n",
    "print('Variance :', variance)"
   ]
  },
  {
   "cell_type": "code",
   "execution_count": 15,
   "metadata": {},
   "outputs": [
    {
     "name": "stdout",
     "output_type": "stream",
     "text": [
      "Variance : \n",
      "\n"
     ]
    },
    {
     "data": {
      "text/plain": [
       "Mthly_HH_Income          6.811009e+08\n",
       "Mthly_HH_Expense         1.461733e+08\n",
       "No_of_Fly_Members        2.302449e+00\n",
       "Emi_or_Rent_Amt          3.895551e+07\n",
       "Annual_HH_Income         1.024869e+11\n",
       "No_of_Earning_Members    5.391837e-01\n",
       "dtype: float64"
      ]
     },
     "execution_count": 15,
     "metadata": {},
     "output_type": "execute_result"
    }
   ],
   "source": [
    "# With Library Function\n",
    "\n",
    "print('Variance :', '\\n')\n",
    "df.var()"
   ]
  },
  {
   "cell_type": "markdown",
   "metadata": {},
   "source": [
    "### STANDARD DEVIATION"
   ]
  },
  {
   "cell_type": "markdown",
   "metadata": {},
   "source": [
    "<p>The Standard Deviation is a Measure of how Spread out the Numbers are. It is the <b>Square Root of the Variance.</b><br>\n",
    "\n",
    "A low standard deviation indicates that the values tend to be close to the mean of the data set,while a high standard \n",
    "deviation indicates that the values are spread out over a wider range.</p>\n",
    "\n",
    "<p><b>Formula : <b>\n",
    "$$ \\sigma =\\sqrt{\\frac {\\sum_{i=1}^{n} (x_i - \\mu_x)^2} {n}} $$ <br>\n",
    "where $$ x_i \\;= \\; i^{th} \\; point \\; in \\; the \\; data \\; set $$\n",
    "$$ \\mu_x \\;\\; = \\; \\;The \\; mean \\; value \\; of \\; the \\; data \\; set $$\n",
    "$$ n \\; = \\; Total \\; number \\; of \\; data \\; points \\; in \\; the \\; data \\; set $$ </p>"
   ]
  },
  {
   "cell_type": "code",
   "execution_count": 13,
   "metadata": {},
   "outputs": [
    {
     "name": "stdout",
     "output_type": "stream",
     "text": [
      "Standard Deviation : 25835.611779092826\n"
     ]
    }
   ],
   "source": [
    "# Without Library Function\n",
    "\n",
    "income = [i for i in df['Mthly_HH_Income']]\n",
    "mean =  sum(income)/len(income)\n",
    "sq_diff = [(i-mean)**2 for i in income]\n",
    "variance = sum(sq_diff)/len(sq_diff)\n",
    "std_dev = variance ** 0.5\n",
    "\n",
    "print('Standard Deviation :', std_dev)"
   ]
  },
  {
   "cell_type": "code",
   "execution_count": 16,
   "metadata": {
    "scrolled": true
   },
   "outputs": [
    {
     "name": "stdout",
     "output_type": "stream",
     "text": [
      "Standard Deviation : \n",
      "\n",
      "Mthly_HH_Income           26097.908979\n",
      "Mthly_HH_Expense          12090.216824\n",
      "No_of_Fly_Members             1.517382\n",
      "Emi_or_Rent_Amt            6241.434948\n",
      "Annual_HH_Income         320135.792123\n",
      "No_of_Earning_Members         0.734291\n",
      "dtype: float64\n"
     ]
    }
   ],
   "source": [
    "# With Library Function\n",
    "\n",
    "print('Standard Deviation :', '\\n')\n",
    "print(df.std())"
   ]
  },
  {
   "cell_type": "markdown",
   "metadata": {},
   "source": [
    "### CORRELATION"
   ]
  },
  {
   "cell_type": "markdown",
   "metadata": {},
   "source": [
    "<P>It is the relationships between two or more variables (or features) of a dataset. When two sets of data are strongly \n",
    "linked together we say they have a High Correlation.\n",
    "<br>\n",
    "Correlation is <b>Positive</b> when the values increase together, and <br>\n",
    "Correlation is <b>Negative</b> when one value decreases as the other increases.\n",
    "\n",
    "Correlation can have a value:\n",
    "\n",
    "<b>1</b> is a perfect positive correlation <br>\n",
    "<b>0</b> is no correlation (the values don't seem linked at all) <br>\n",
    "<b>-1</b> is a perfect negative correlation and between them. </p>"
   ]
  },
  {
   "cell_type": "markdown",
   "metadata": {},
   "source": [
    "<p>Correlation used only in Linear Relationship : <br>\n",
    "   Formula : <br>\n",
    "   $$ \\rho_x,_y = \\frac{{}\\sum_{i=1}^{n} (x_i - \\mu_x)(y_i - \\mu_y)}\n",
    "{\\sqrt{\\sum_{i=1}^{n} (x_i - \\mu_x)^2 \\sum_{i=1}^n(y_i - \\mu_y)^2}} $$"
   ]
  },
  {
   "cell_type": "code",
   "execution_count": 17,
   "metadata": {},
   "outputs": [
    {
     "name": "stdout",
     "output_type": "stream",
     "text": [
      "Pearson Correlation Coefficient : 0.6492152549316462\n"
     ]
    }
   ],
   "source": [
    "# Without Library Function\n",
    "\n",
    "x = [i for i in df['Mthly_HH_Income']]\n",
    "y = [i for i in df['Mthly_HH_Expense']]\n",
    "\n",
    "x_mean = sum(x) / len(x)\n",
    "y_mean = sum(y) / len(y)\n",
    "\n",
    "cov_xy = [(i - x_mean) * (j - y_mean) for i,j in zip(x, y)]\n",
    "cov_xy = sum(cov_xy) / len(cov_xy)\n",
    "\n",
    "x_std = (sum([(i - x_mean)**2 for i in x]) / len(x)) ** 0.5\n",
    "y_std = (sum([(i - y_mean)**2 for i in y])/len(y)) ** 0.5\n",
    "\n",
    "correlation = cov_xy / (x_std * y_std)\n",
    "\n",
    "print('Pearson Correlation Coefficient :', correlation)"
   ]
  },
  {
   "cell_type": "code",
   "execution_count": 47,
   "metadata": {},
   "outputs": [
    {
     "name": "stdout",
     "output_type": "stream",
     "text": [
      "Pearson Correlation Coefficient : 0.6492152549316461\n"
     ]
    }
   ],
   "source": [
    "# With Library Function\n",
    "\n",
    "x = df['Mthly_HH_Income']\n",
    "y = df['Mthly_HH_Expense']\n",
    "\n",
    "print('Pearson Correlation Coefficient :', stats.pearsonr(x,y)[0])"
   ]
  },
  {
   "cell_type": "markdown",
   "metadata": {},
   "source": [
    "### NORMAL DISTRIBUTION & ITS FEATURES"
   ]
  },
  {
   "cell_type": "markdown",
   "metadata": {},
   "source": [
    "In probability theory, a Normal Distribution is a type of continuous probability distribution for a real-valued random variable.\n",
    "\n",
    "Data can be \"distributed\" (spread out) in different ways. But there are many cases where the data tends to be around a central \n",
    "value with no bias left or right, and it gets close to a \"Normal Distribution\" like this: \n",
    "    \n",
    "The \"Bell Curve\" is a Normal Distribution.\n",
    "\n",
    "The Normal Distribution has:\n",
    "\n",
    "1. Bell Shaped Curve\n",
    "2. Symmetry about the centre\n",
    "3. 50% of values less than the mean and 50% greater than the mean\n",
    "4. Mean = Median = Mode\n",
    "5. It follows 68-95-99.7 % Rule : \n",
    "        68% of data is going to lie in the first Standard Deviation away from the Mean.\n",
    "        95% of data is going to lie in the first Standard Deviation away from the Mean.\n",
    "        99.7% of data is going to lie in the first Standard Deviation away from the Mean.\n",
    "        "
   ]
  },
  {
   "cell_type": "code",
   "execution_count": 9,
   "metadata": {
    "scrolled": true
   },
   "outputs": [
    {
     "data": {
      "text/plain": [
       "<AxesSubplot:ylabel='Density'>"
      ]
     },
     "execution_count": 9,
     "metadata": {},
     "output_type": "execute_result"
    },
    {
     "data": {
      "image/png": "[encoded data removed]",
      "text/plain": [
       "<Figure size 432x288 with 1 Axes>"
      ]
     },
     "metadata": {
      "needs_background": "light"
     },
     "output_type": "display_data"
    }
   ],
   "source": [
    "import warnings\n",
    "warnings.filterwarnings('ignore')\n",
    "\n",
    "mean = np.mean(df['No_of_Fly_Members'])\n",
    "std = np.std(df['No_of_Fly_Members'])\n",
    "\n",
    "norm = np.random.normal(mean, std,1000000)\n",
    "\n",
    "# Mean = 0, SD = 2.\n",
    "sns.distplot(norm)"
   ]
  },
  {
   "cell_type": "markdown",
   "metadata": {},
   "source": [
    "### POSITIVELY SKEWED & NEGATIVE SKEWED NORMAL DISTRIBUTION"
   ]
  },
  {
   "cell_type": "markdown",
   "metadata": {},
   "source": [
    "In a Distribution if one tail is longer than other tail then it is skew.Skewness also called as assymmetric distributions as they don't show any kind of symmetric properties but normal distribution show the symmetric property<br>\n",
    "<b><i>Symmetric means one tail is the mirror image of other half.</i></b><br>\n",
    "\n",
    "A left long tail known as left-skewed distribution also known  as <b>Negatively Skewed</b> Normal Distribution  & <br>\n",
    "A right long tail distribution known as right-skewed distribution also known as <b>Positively Skewed</b> Normal Distribution.\n",
    "\n",
    "1. If skewness is less than -1 or greater than 1, the distribution is <b>Highly Skewed.</b> <br>\n",
    "2. If skewness is between -1 and -0.5 or between 0.5 and 1, the distribution is <b>Moderately Skewed.</b> <br>\n",
    "3. If skewness is between -0.5 and 0.5, the distribution is <b>Approximately Symmetric.</b>"
   ]
  },
  {
   "cell_type": "code",
   "execution_count": 14,
   "metadata": {
    "scrolled": true
   },
   "outputs": [
    {
     "name": "stdout",
     "output_type": "stream",
     "text": [
      "Skewness for each column :\n"
     ]
    },
    {
     "data": {
      "text/plain": [
       "Mthly_HH_Income          0.924615\n",
       "Mthly_HH_Expense         1.199461\n",
       "No_of_Fly_Members        0.113674\n",
       "Emi_or_Rent_Amt          3.403680\n",
       "Annual_HH_Income         1.192949\n",
       "No_of_Earning_Members    1.593301\n",
       "dtype: float64"
      ]
     },
     "execution_count": 14,
     "metadata": {},
     "output_type": "execute_result"
    }
   ],
   "source": [
    "print('Skewness for each column :')\n",
    "df.skew()"
   ]
  },
  {
   "cell_type": "markdown",
   "metadata": {},
   "source": [
    "#### From the above we can see that all are Positively Skewed but the Emi_or_Rent_Amt column is Highly Skewed."
   ]
  },
  {
   "cell_type": "code",
   "execution_count": 21,
   "metadata": {},
   "outputs": [
    {
     "data": {
      "text/plain": [
       "<AxesSubplot:ylabel='Density'>"
      ]
     },
     "execution_count": 21,
     "metadata": {},
     "output_type": "execute_result"
    },
    {
     "data": {
      "image/png": "[encoded data removed]",
      "text/plain": [
       "<Figure size 432x288 with 1 Axes>"
      ]
     },
     "metadata": {
      "needs_background": "light"
     },
     "output_type": "display_data"
    }
   ],
   "source": [
    "# We are plotting the distribution plot for the first column : Mthly_HH_Income\n",
    "\n",
    "import warnings\n",
    "warnings.filterwarnings('ignore')\n",
    "\n",
    "mean = np.mean(df['Mthly_HH_Income'])\n",
    "std = np.std(df['Mthly_HH_Income'])\n",
    "\n",
    "# Plot between -10 and 10 with .001 steps.\n",
    "x_axis = np.random.normal(mean, std,10)\n",
    "# Mean = 0, SD = 2.\n",
    "sns.distplot(x_axis)\n"
   ]
  },
  {
   "cell_type": "markdown",
   "metadata": {},
   "source": [
    "#### It is Right Skewed."
   ]
  },
  {
   "cell_type": "markdown",
   "metadata": {},
   "source": [
    "### EFFECT ON MEAN, MEDIAN & MODE DUE TO SKEWNESS"
   ]
  },
  {
   "cell_type": "markdown",
   "metadata": {},
   "source": [
    "Among the three measures of central tendancy mean is highly effected by the skewness.For distributions that has outliers we often choose median as a prefer tendency because median is more resistance than mean, that means that if the add anyt outliers in it then there will be a huge change in mean than median. If we see that the distribution is skewed to the left that means that the mean is less than median,which is often less than the mode. if the distribution is skewed to the right that means the mode is less than the median which is often less than the mean."
   ]
  },
  {
   "cell_type": "markdown",
   "metadata": {},
   "source": [
    "### Explain QQ PLOT and show the implementation of the same\n"
   ]
  },
  {
   "cell_type": "markdown",
   "metadata": {},
   "source": [
    "Q-Q plots also known as Quantile-Quantile plot is plots of two quantiles against each other.The main objective of this plot is to check wheather two sets of data come from the same distribution. We can simply tell the type of distribution by looking at the graph of Q-Q plot"
   ]
  },
  {
   "cell_type": "code",
   "execution_count": 26,
   "metadata": {},
   "outputs": [
    {
     "data": {
      "image/png": "[encoded data removed]",
      "text/plain": [
       "<Figure size 432x288 with 1 Axes>"
      ]
     },
     "metadata": {},
     "output_type": "display_data"
    }
   ],
   "source": [
    "stats.probplot(df['Mthly_HH_Income'], dist=\"norm\", plot=plt)\n",
    "\n",
    "plt.grid()"
   ]
  },
  {
   "cell_type": "markdown",
   "metadata": {},
   "source": [
    "### Explain Box Cox and show the implementation of the same"
   ]
  },
  {
   "cell_type": "markdown",
   "metadata": {},
   "source": [
    "A box-cox plot is basically used to convert the non-normally distributed dataset into the normally distributed dataset.\n"
   ]
  },
  {
   "cell_type": "code",
   "execution_count": 28,
   "metadata": {},
   "outputs": [
    {
     "data": {
      "text/plain": [
       "<AxesSubplot:ylabel='Density'>"
      ]
     },
     "execution_count": 28,
     "metadata": {},
     "output_type": "execute_result"
    },
    {
     "data": {
      "image/png": "[encoded data removed]",
      "text/plain": [
       "<Figure size 432x288 with 1 Axes>"
      ]
     },
     "metadata": {},
     "output_type": "display_data"
    }
   ],
   "source": [
    "#set seed to 0\n",
    "np.random.seed(0)\n",
    "\n",
    "#generate dataset\n",
    "data = np.random.exponential(size=1000)\n",
    "\n",
    "#plot the distribution of data values\n",
    "sns.distplot(data, hist=False, kde=True) "
   ]
  },
  {
   "cell_type": "markdown",
   "metadata": {},
   "source": [
    "#### We can see that the data is non-normally distributed. so we need to use the box-cox plot in-order to make it nomally distributed dataset."
   ]
  },
  {
   "cell_type": "code",
   "execution_count": 29,
   "metadata": {},
   "outputs": [
    {
     "data": {
      "text/plain": [
       "<AxesSubplot:ylabel='Density'>"
      ]
     },
     "execution_count": 29,
     "metadata": {},
     "output_type": "execute_result"
    },
    {
     "data": {
      "image/png": "[encoded data removed]",
      "text/plain": [
       "<Figure size 432x288 with 1 Axes>"
      ]
     },
     "metadata": {},
     "output_type": "display_data"
    }
   ],
   "source": [
    "#perform Box-Cox \n",
    "transformed_data, best_lambda = boxcox(data) \n",
    "\n",
    "#plot the distribution of the transformed data \n",
    "sns.distplot(transformed_data, hist=False, kde=True) "
   ]
  }
 ],
 "metadata": {
  "kernelspec": {
   "display_name": "Python 3",
   "language": "python",
   "name": "python3"
  },
  "language_info": {
   "codemirror_mode": {
    "name": "ipython",
    "version": 3
   },
   "file_extension": ".py",
   "mimetype": "text/x-python",
   "name": "python",
   "nbconvert_exporter": "python",
   "pygments_lexer": "ipython3",
   "version": "3.7.4"
  }
 },
 "nbformat": 4,
 "nbformat_minor": 4
}
