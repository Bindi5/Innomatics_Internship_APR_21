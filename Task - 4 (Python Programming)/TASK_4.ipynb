{
 "cells": [
  {
   "cell_type": "code",
   "execution_count": 5,
   "metadata": {},
   "outputs": [
    {
     "name": "stdout",
     "output_type": "stream",
     "text": [
      "HackerRank.com presents \"Pythonist 2\".\n",
      "hACKERrANK.COM PRESENTS \"pYTHONIST 2\".\n"
     ]
    }
   ],
   "source": [
    "# Question 1: sWAP cASE\n",
    "\n",
    "def swap_case(s):\n",
    "    lst = []\n",
    "    for i in s:\n",
    "        if i.islower():\n",
    "            lst.append(i.upper())\n",
    "        elif i.isupper():\n",
    "            lst.append(i.lower())\n",
    "        else:\n",
    "            lst.append(i)\n",
    "    lst = ''.join(lst)\n",
    "    return lst\n",
    "\n",
    "if __name__ == '__main__':\n",
    "    s = input()\n",
    "    result = swap_case(s)\n",
    "    print(result)"
   ]
  },
  {
   "cell_type": "code",
   "execution_count": 7,
   "metadata": {},
   "outputs": [
    {
     "name": "stdout",
     "output_type": "stream",
     "text": [
      "this is a string   \n",
      "this-is-a-string\n"
     ]
    }
   ],
   "source": [
    "# Question 2: String Split and Join\n",
    "\n",
    "def split_and_join(line):\n",
    "    lst = line.strip().split(' ')\n",
    "    join = '-'.join(lst)\n",
    "    return join\n",
    "\n",
    "if __name__ == '__main__':\n",
    "    line = input()\n",
    "    result = split_and_join(line)\n",
    "    print(result)"
   ]
  },
  {
   "cell_type": "code",
   "execution_count": 20,
   "metadata": {},
   "outputs": [
    {
     "name": "stdout",
     "output_type": "stream",
     "text": [
      "Bindiya\n",
      "Roy\n",
      "Hello Bindiya Roy! You just delved into python.\n"
     ]
    }
   ],
   "source": [
    "# Question 3: What's Your Name?\n",
    "\n",
    "def print_full_name(a, b):\n",
    "    print(\"Hello\",a,b+\"! You just delved into python.\")\n",
    "\n",
    "\n",
    "if __name__ == '__main__':\n",
    "    first_name = input()\n",
    "    last_name = input()\n",
    "    print_full_name(first_name, last_name)"
   ]
  },
  {
   "cell_type": "code",
   "execution_count": 18,
   "metadata": {},
   "outputs": [
    {
     "name": "stdout",
     "output_type": "stream",
     "text": [
      "abracadabra\n",
      "5 k\n",
      "abrackdabra\n"
     ]
    }
   ],
   "source": [
    "# Question 4: Mutations\n",
    "\n",
    "def mutate_string(string, position, character):\n",
    "    return string[:position]+character+string[position+1:]\n",
    "\n",
    "if __name__ == '__main__':\n",
    "    s = input()\n",
    "    i, c = input().split()\n",
    "    s_new = mutate_string(s, int(i), c)\n",
    "    print(s_new)"
   ]
  },
  {
   "cell_type": "code",
   "execution_count": 19,
   "metadata": {},
   "outputs": [
    {
     "name": "stdout",
     "output_type": "stream",
     "text": [
      "ABCDCDC\n",
      "CDC\n",
      "2\n"
     ]
    }
   ],
   "source": [
    "# Question 5: Find a string\n",
    "\n",
    "def count_substring(string, sub_string):\n",
    "    k = 0\n",
    "    for i in range(len(string)):\n",
    "        if string[i:i+len(sub_string)] == sub_string:\n",
    "            k += 1\n",
    "    return k\n",
    "\n",
    "if __name__ == '__main__':\n",
    "    string = input().strip()\n",
    "    sub_string = input().strip()\n",
    "    \n",
    "    count = count_substring(string, sub_string)\n",
    "    print(count)"
   ]
  },
  {
   "cell_type": "code",
   "execution_count": 20,
   "metadata": {},
   "outputs": [
    {
     "name": "stdout",
     "output_type": "stream",
     "text": [
      "qA2\n",
      "True\n",
      "True\n",
      "True\n",
      "True\n",
      "True\n"
     ]
    }
   ],
   "source": [
    "# Question 6: String Validators\n",
    "\n",
    "if __name__ == '__main__':\n",
    "    s = input()\n",
    "    print(any(i.isalnum() for i in s))\n",
    "    print(any(i.isalpha() for i in s))\n",
    "    print(any(i.isdigit() for i in s))\n",
    "    print(any(i.islower() for i in s))\n",
    "    print(any(i.isupper() for i in s))\n"
   ]
  },
  {
   "cell_type": "code",
   "execution_count": 26,
   "metadata": {},
   "outputs": [
    {
     "name": "stdout",
     "output_type": "stream",
     "text": [
      "5\n",
      "    H    \n",
      "   HHH   \n",
      "  HHHHH  \n",
      " HHHHHHH \n",
      "HHHHHHHHH\n",
      "  HHHHH               HHHHH             \n",
      "  HHHHH               HHHHH             \n",
      "  HHHHH               HHHHH             \n",
      "  HHHHH               HHHHH             \n",
      "  HHHHH               HHHHH             \n",
      "  HHHHH               HHHHH             \n",
      "  HHHHHHHHHHHHHHHHHHHHHHHHH   \n",
      "  HHHHHHHHHHHHHHHHHHHHHHHHH   \n",
      "  HHHHHHHHHHHHHHHHHHHHHHHHH   \n",
      "  HHHHH               HHHHH             \n",
      "  HHHHH               HHHHH             \n",
      "  HHHHH               HHHHH             \n",
      "  HHHHH               HHHHH             \n",
      "  HHHHH               HHHHH             \n",
      "  HHHHH               HHHHH             \n",
      "                    HHHHHHHHH \n",
      "                     HHHHHHH  \n",
      "                      HHHHH   \n",
      "                       HHH    \n",
      "                        H     \n"
     ]
    }
   ],
   "source": [
    "# Question 7: Text Alignment\n",
    "\n",
    "thickness = int(input()) #This must be an odd number\n",
    "c = 'H'\n",
    "\n",
    "#Top Cone\n",
    "for i in range(thickness):\n",
    "    print((c*i).rjust(thickness-1)+c+(c*i).ljust(thickness-1))\n",
    "\n",
    "# #Top Pillars\n",
    "for i in range(thickness+1):\n",
    "    print((c*thickness).center(thickness*2)+(c*thickness).center(thickness*6))\n",
    "\n",
    "#Middle Belt\n",
    "for i in range((thickness+1)//2):\n",
    "    print((c*thickness*5).center(thickness*6))    \n",
    "\n",
    "#Bottom Pillars\n",
    "for i in range(thickness+1):\n",
    "    print((c*thickness).center(thickness*2)+(c*thickness).center(thickness*6))    \n",
    "\n",
    "#Bottom Cone\n",
    "for i in range(thickness):\n",
    "    print(((c*(thickness-i-1)).rjust(thickness)+c+(c*(thickness-i-1)).ljust(thickness)).rjust(thickness*6))"
   ]
  },
  {
   "cell_type": "code",
   "execution_count": 29,
   "metadata": {},
   "outputs": [
    {
     "name": "stdout",
     "output_type": "stream",
     "text": [
      "ABCDEFGHIJKLIMNOQRSTUVWXYZ\n",
      "4\n",
      "ABCD\n",
      "EFGH\n",
      "IJKL\n",
      "IMNO\n",
      "QRST\n",
      "UVWX\n",
      "YZ\n"
     ]
    }
   ],
   "source": [
    "# Question 8: Text Wrap\n",
    "\n",
    "import textwrap\n",
    "\n",
    "def wrap(string, max_width):\n",
    "    wrapper = textwrap.TextWrapper(width = max_width)\n",
    "    wrap_lst = wrapper.fill(text = string) \n",
    "    return wrap_lst\n",
    "\n",
    "if __name__ == '__main__':\n",
    "    string, max_width = input(), int(input())\n",
    "    result = wrap(string, max_width)\n",
    "    print(result)"
   ]
  },
  {
   "cell_type": "code",
   "execution_count": 62,
   "metadata": {},
   "outputs": [
    {
     "name": "stdout",
     "output_type": "stream",
     "text": [
      "9 27\n",
      "------------.|.------------\n",
      "---------.|..|..|.---------\n",
      "------.|..|..|..|..|.------\n",
      "---.|..|..|..|..|..|..|.---\n",
      "----------WELCOME----------\n",
      "---.|..|..|..|..|..|..|.---\n",
      "------.|..|..|..|..|.------\n",
      "---------.|..|..|.---------\n",
      "------------.|.------------\n"
     ]
    }
   ],
   "source": [
    "# Question 9: Designer Door Mat\n",
    "\n",
    "n, m = map(int, input().strip().split())\n",
    "c, d = '.|.', 'WELCOME'\n",
    "mid = n//2\n",
    "for i in range(mid):\n",
    "    print((c*i).rjust((m-3)//2,'-') + c + (c*i).ljust((m-3)//2,'-'))\n",
    "\n",
    "for i in range(mid, n):\n",
    "    if i==mid:\n",
    "        print(d.center(m,'-'))\n",
    "    else:\n",
    "        print((c*(n-i-1)).rjust((m-3)//2,'-') + c + (c*(n-i-1)).ljust((m-3)//2,'-'))\n",
    "    \n"
   ]
  },
  {
   "cell_type": "code",
   "execution_count": 7,
   "metadata": {},
   "outputs": [
    {
     "name": "stdout",
     "output_type": "stream",
     "text": [
      "17\n",
      "    1     1     1     1\n",
      "    2     2     2    10\n",
      "    3     3     3    11\n",
      "    4     4     4   100\n",
      "    5     5     5   101\n",
      "    6     6     6   110\n",
      "    7     7     7   111\n",
      "    8    10     8  1000\n",
      "    9    11     9  1001\n",
      "   10    12     A  1010\n",
      "   11    13     B  1011\n",
      "   12    14     C  1100\n",
      "   13    15     D  1101\n",
      "   14    16     E  1110\n",
      "   15    17     F  1111\n",
      "   16    20    10 10000\n",
      "   17    21    11 10001\n"
     ]
    }
   ],
   "source": [
    "# Question 10: String Formatting\n",
    "\n",
    "def print_formatted(number):\n",
    "    w = len(bin(n)[2:])\n",
    "    for i in range(1, number+1):\n",
    "        print(str(i).rjust(w,' '), str(oct(i)[2:]).rjust(w,' '), str(hex(i)[2:].upper()).rjust(w,' '), str(bin(i)[2:]).rjust(w,' '))\n",
    "    \n",
    "\n",
    "if __name__ == '__main__':\n",
    "    n = int(input())\n",
    "    print_formatted(n)"
   ]
  },
  {
   "cell_type": "code",
   "execution_count": 17,
   "metadata": {},
   "outputs": [
    {
     "name": "stdout",
     "output_type": "stream",
     "text": [
      "5\n",
      "--------e--------\n",
      "------e-d-e------\n",
      "----e-d-c-d-e----\n",
      "--e-d-c-b-c-d-e--\n",
      "e-d-c-b-a-b-c-d-e\n",
      "--e-d-c-b-c-d-e--\n",
      "----e-d-c-d-e----\n",
      "------e-d-e------\n",
      "--------e--------\n"
     ]
    }
   ],
   "source": [
    "# Question 11: Alphabet Rangoli\n",
    "\n",
    "def print_rangoli(size):\n",
    "    import string\n",
    "\n",
    "    ch = string.ascii_lowercase\n",
    "    wid = 4*size - 3\n",
    "    lst = []\n",
    "\n",
    "    for i in range(size):\n",
    "        s = '-'.join(ch[i:size])\n",
    "        lst.append((s[::-1]+s[1:]).center(wid,'-'))\n",
    "        \n",
    "    print('\\n'.join(lst[:0:-1]+lst))\n",
    "\n",
    "if __name__ == '__main__':\n",
    "    n = int(input())\n",
    "    print_rangoli(n)\n",
    "    \n"
   ]
  },
  {
   "cell_type": "code",
   "execution_count": 28,
   "metadata": {},
   "outputs": [
    {
     "name": "stdout",
     "output_type": "stream",
     "text": [
      "bindi roy\n",
      "Bindi Roy\n"
     ]
    }
   ],
   "source": [
    "# Question 12: Capitalize!\n",
    "\n",
    "def solve(s):\n",
    "    lst = [i.capitalize() for i in s.split(' ')]            \n",
    "    return ' '.join(lst)\n",
    "\n",
    "\n",
    "if __name__ == '__main__':\n",
    "#     fptr = open(os.environ['OUTPUT_PATH'], 'w')\n",
    "\n",
    "    s = input()\n",
    "\n",
    "    result = solve(s)\n",
    "    print(result)\n",
    "\n",
    "#     fptr.write(result + '\\n')\n",
    "\n",
    "#     fptr.close()"
   ]
  },
  {
   "cell_type": "code",
   "execution_count": 21,
   "metadata": {},
   "outputs": [
    {
     "name": "stdout",
     "output_type": "stream",
     "text": [
      "BANANA\n",
      "Stuart 12\n"
     ]
    }
   ],
   "source": [
    "# Question 13: The Minion Game\n",
    "\n",
    "def minion_game(string):\n",
    "    kev_sc, stu_sc = 0, 0\n",
    "    vow = 'AEIOU'\n",
    "    for i in range(len(string)):\n",
    "        if string[i] in vow:\n",
    "            kev_sc += (len(string)-i)\n",
    "        else:\n",
    "            stu_sc += (len(string)-i)\n",
    "            \n",
    "    if kev_sc > stu_sc:\n",
    "        print('Kevin', kev_sc)\n",
    "    elif kev_sc < stu_sc:\n",
    "        print('Stuart', stu_sc)\n",
    "    else:\n",
    "        print('Draw')\n",
    "                \n",
    "if __name__ == '__main__':\n",
    "    s = input()\n",
    "    minion_game(s)"
   ]
  },
  {
   "cell_type": "code",
   "execution_count": 27,
   "metadata": {},
   "outputs": [
    {
     "name": "stdout",
     "output_type": "stream",
     "text": [
      "AABCAAADA\n",
      "3\n",
      "AB\n",
      "CA\n",
      "AD\n"
     ]
    }
   ],
   "source": [
    "# Question 14: Merge the Tools!\n",
    "\n",
    "def merge_the_tools(string, k):\n",
    "    for i in range(0,len(string),k):\n",
    "        s = \"\"\n",
    "        for j in string[i:i+k]:\n",
    "            if j not in s:\n",
    "                s += j\n",
    "        print(s)\n",
    "\n",
    "if __name__ == '__main__':\n",
    "    string, k = input(), int(input())\n",
    "    merge_the_tools(string, k)"
   ]
  }
 ],
 "metadata": {
  "kernelspec": {
   "display_name": "Python 3",
   "language": "python",
   "name": "python3"
  },
  "language_info": {
   "codemirror_mode": {
    "name": "ipython",
    "version": 3
   },
   "file_extension": ".py",
   "mimetype": "text/x-python",
   "name": "python",
   "nbconvert_exporter": "python",
   "pygments_lexer": "ipython3",
   "version": "3.7.4"
  }
 },
 "nbformat": 4,
 "nbformat_minor": 4
}
